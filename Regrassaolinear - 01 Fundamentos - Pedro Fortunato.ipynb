{
 "cells": [
  {
   "cell_type": "code",
   "execution_count": 1,
   "id": "40d74bae",
   "metadata": {},
   "outputs": [],
   "source": [
    "# Regressão Linear - Fundamentos - parte 1\n",
    "# Pedro Fortunato da Silva Neto, P2 Data Science\n"
   ]
  },
  {
   "cell_type": "code",
   "execution_count": 2,
   "id": "a1e12c91",
   "metadata": {},
   "outputs": [],
   "source": [
    "# Importando as bibliotecas que serão utilizadas no python para ciência de dados\n",
    "import numpy as np\n",
    "import pandas as pd\n",
    "import matplotlib.pyplot as plt"
   ]
  },
  {
   "cell_type": "code",
   "execution_count": 4,
   "id": "3a75dbd5",
   "metadata": {},
   "outputs": [
    {
     "data": {
      "text/html": [
       "<div>\n",
       "<style scoped>\n",
       "    .dataframe tbody tr th:only-of-type {\n",
       "        vertical-align: middle;\n",
       "    }\n",
       "\n",
       "    .dataframe tbody tr th {\n",
       "        vertical-align: top;\n",
       "    }\n",
       "\n",
       "    .dataframe thead th {\n",
       "        text-align: right;\n",
       "    }\n",
       "</style>\n",
       "<table border=\"1\" class=\"dataframe\">\n",
       "  <thead>\n",
       "    <tr style=\"text-align: right;\">\n",
       "      <th></th>\n",
       "      <th>X</th>\n",
       "      <th>Y</th>\n",
       "    </tr>\n",
       "  </thead>\n",
       "  <tbody>\n",
       "    <tr>\n",
       "      <th>0</th>\n",
       "      <td>0.00000</td>\n",
       "      <td>-11.656137</td>\n",
       "    </tr>\n",
       "    <tr>\n",
       "      <th>1</th>\n",
       "      <td>0.10101</td>\n",
       "      <td>-8.074456</td>\n",
       "    </tr>\n",
       "    <tr>\n",
       "      <th>2</th>\n",
       "      <td>0.20202</td>\n",
       "      <td>-16.588246</td>\n",
       "    </tr>\n",
       "    <tr>\n",
       "      <th>3</th>\n",
       "      <td>0.30303</td>\n",
       "      <td>-4.275013</td>\n",
       "    </tr>\n",
       "    <tr>\n",
       "      <th>4</th>\n",
       "      <td>0.40404</td>\n",
       "      <td>-8.714275</td>\n",
       "    </tr>\n",
       "  </tbody>\n",
       "</table>\n",
       "</div>"
      ],
      "text/plain": [
       "         X          Y\n",
       "0  0.00000 -11.656137\n",
       "1  0.10101  -8.074456\n",
       "2  0.20202 -16.588246\n",
       "3  0.30303  -4.275013\n",
       "4  0.40404  -8.714275"
      ]
     },
     "execution_count": 4,
     "metadata": {},
     "output_type": "execute_result"
    }
   ],
   "source": [
    "# Criando um data frame \"dados\" de um arquivo .csv\n",
    "dados = pd.read_csv(r'C:\\Users\\Pichau\\Downloads\\Regresao_Linear.csv')\n",
    "\n",
    "# Exibe as primeiras linhas do data frame e caso seja passada uma váriavel 'x' entre parenteses, irá exibir tal quantidade\n",
    "dados.head()\n"
   ]
  },
  {
   "cell_type": "code",
   "execution_count": 5,
   "id": "ac4372c1",
   "metadata": {},
   "outputs": [
    {
     "data": {
      "text/html": [
       "<div>\n",
       "<style scoped>\n",
       "    .dataframe tbody tr th:only-of-type {\n",
       "        vertical-align: middle;\n",
       "    }\n",
       "\n",
       "    .dataframe tbody tr th {\n",
       "        vertical-align: top;\n",
       "    }\n",
       "\n",
       "    .dataframe thead th {\n",
       "        text-align: right;\n",
       "    }\n",
       "</style>\n",
       "<table border=\"1\" class=\"dataframe\">\n",
       "  <thead>\n",
       "    <tr style=\"text-align: right;\">\n",
       "      <th></th>\n",
       "      <th>X</th>\n",
       "      <th>Y</th>\n",
       "    </tr>\n",
       "  </thead>\n",
       "  <tbody>\n",
       "    <tr>\n",
       "      <th>0</th>\n",
       "      <td>0.000000</td>\n",
       "      <td>-11.656137</td>\n",
       "    </tr>\n",
       "    <tr>\n",
       "      <th>1</th>\n",
       "      <td>0.101010</td>\n",
       "      <td>-8.074456</td>\n",
       "    </tr>\n",
       "    <tr>\n",
       "      <th>2</th>\n",
       "      <td>0.202020</td>\n",
       "      <td>-16.588246</td>\n",
       "    </tr>\n",
       "    <tr>\n",
       "      <th>3</th>\n",
       "      <td>0.303030</td>\n",
       "      <td>-4.275013</td>\n",
       "    </tr>\n",
       "    <tr>\n",
       "      <th>4</th>\n",
       "      <td>0.404040</td>\n",
       "      <td>-8.714275</td>\n",
       "    </tr>\n",
       "    <tr>\n",
       "      <th>5</th>\n",
       "      <td>0.505051</td>\n",
       "      <td>-7.279264</td>\n",
       "    </tr>\n",
       "    <tr>\n",
       "      <th>6</th>\n",
       "      <td>0.606061</td>\n",
       "      <td>-3.427760</td>\n",
       "    </tr>\n",
       "    <tr>\n",
       "      <th>7</th>\n",
       "      <td>0.707071</td>\n",
       "      <td>-11.301643</td>\n",
       "    </tr>\n",
       "  </tbody>\n",
       "</table>\n",
       "</div>"
      ],
      "text/plain": [
       "          X          Y\n",
       "0  0.000000 -11.656137\n",
       "1  0.101010  -8.074456\n",
       "2  0.202020 -16.588246\n",
       "3  0.303030  -4.275013\n",
       "4  0.404040  -8.714275\n",
       "5  0.505051  -7.279264\n",
       "6  0.606061  -3.427760\n",
       "7  0.707071 -11.301643"
      ]
     },
     "execution_count": 5,
     "metadata": {},
     "output_type": "execute_result"
    }
   ],
   "source": [
    "dados.head(8)"
   ]
  },
  {
   "cell_type": "code",
   "execution_count": 6,
   "id": "c56a28b0",
   "metadata": {},
   "outputs": [
    {
     "data": {
      "image/png": "[encoded data removed]",
      "text/plain": [
       "<Figure size 640x480 with 1 Axes>"
      ]
     },
     "metadata": {},
     "output_type": "display_data"
    }
   ],
   "source": [
    "# Atribuindo valores as variáveis x e y\n",
    "X = dados['X'].values\n",
    "Y = dados['Y'].values\n",
    "\n",
    "# Plotando graficamente no formato scarterplot\n",
    "plt.scatter(X,Y,label='Y(X)');\n",
    "plt.xlabel('X');\n",
    "plt.ylabel('Y');\n",
    "plt.legend();"
   ]
  },
  {
   "cell_type": "code",
   "execution_count": 7,
   "id": "05b5496e",
   "metadata": {},
   "outputs": [
    {
     "name": "stdout",
     "output_type": "stream",
     "text": [
      "5.0\n"
     ]
    }
   ],
   "source": [
    "# Calcula a média de \"x\"\n",
    "media_X = np.mean(X)\n",
    "print(media_X)"
   ]
  },
  {
   "cell_type": "code",
   "execution_count": 8,
   "id": "c7128b7c",
   "metadata": {},
   "outputs": [
    {
     "name": "stdout",
     "output_type": "stream",
     "text": [
      "6.46237497152127\n"
     ]
    }
   ],
   "source": [
    "# Calcula a média de \"Y\"\n",
    "media_Y = np.mean(Y)\n",
    "print(media_Y)"
   ]
  },
  {
   "cell_type": "code",
   "execution_count": 9,
   "id": "3c86c245",
   "metadata": {},
   "outputs": [
    {
     "name": "stdout",
     "output_type": "stream",
     "text": [
      "[-5.         -4.8989899  -4.7979798  -4.6969697  -4.5959596  -4.49494949\n",
      " -4.39393939 -4.29292929 -4.19191919 -4.09090909 -3.98989899 -3.88888889\n",
      " -3.78787879 -3.68686869 -3.58585859 -3.48484848 -3.38383838 -3.28282828\n",
      " -3.18181818 -3.08080808 -2.97979798 -2.87878788 -2.77777778 -2.67676768\n",
      " -2.57575758 -2.47474747 -2.37373737 -2.27272727 -2.17171717 -2.07070707\n",
      " -1.96969697 -1.86868687 -1.76767677 -1.66666667 -1.56565657 -1.46464646\n",
      " -1.36363636 -1.26262626 -1.16161616 -1.06060606 -0.95959596 -0.85858586\n",
      " -0.75757576 -0.65656566 -0.55555556 -0.45454545 -0.35353535 -0.25252525\n",
      " -0.15151515 -0.05050505  0.05050505  0.15151515  0.25252525  0.35353535\n",
      "  0.45454545  0.55555556  0.65656566  0.75757576  0.85858586  0.95959596\n",
      "  1.06060606  1.16161616  1.26262626  1.36363636  1.46464646  1.56565657\n",
      "  1.66666667  1.76767677  1.86868687  1.96969697  2.07070707  2.17171717\n",
      "  2.27272727  2.37373737  2.47474747  2.57575758  2.67676768  2.77777778\n",
      "  2.87878788  2.97979798  3.08080808  3.18181818  3.28282828  3.38383838\n",
      "  3.48484848  3.58585859  3.68686869  3.78787879  3.88888889  3.98989899\n",
      "  4.09090909  4.19191919  4.29292929  4.39393939  4.49494949  4.5959596\n",
      "  4.6969697   4.7979798   4.8989899   5.        ]\n"
     ]
    }
   ],
   "source": [
    "# Calcula o valor de erro de \"X\"\n",
    "erro_x = X-media_X\n",
    "print(erro_x)"
   ]
  },
  {
   "cell_type": "code",
   "execution_count": 10,
   "id": "b906439a",
   "metadata": {},
   "outputs": [
    {
     "name": "stdout",
     "output_type": "stream",
     "text": [
      "[-18.11851161 -14.53683051 -23.05062137 -10.73738841 -15.17665007\n",
      " -13.74163909  -9.8901352  -17.76401764 -14.41717307 -19.07857577\n",
      " -15.44010723 -13.72100952 -13.39876094 -12.82412439 -14.24319491\n",
      "  -9.62333049 -12.00684193  -9.11840819 -14.26060948  -8.43160734\n",
      " -12.96101232 -10.49063202 -10.17008283 -10.93157062  -9.63383883\n",
      " -10.17274044 -12.12463904  -5.90856689  -6.95167927  -5.8117693\n",
      "  -7.11439321  -5.61899092  -6.7010447   -6.04175485  -9.9085704\n",
      "  -3.27975648  -6.21671517  -4.7331569   -4.05148678  -4.63775921\n",
      "  -4.38875592  -2.56139334  -2.20475996  -0.85000014   2.60515663\n",
      "  -2.85998801  -3.4307337   -2.70632137   1.32235429   4.85983675\n",
      "  -4.19302977   4.4132633    2.06748803   0.56970372   1.41929244\n",
      "   3.76440095   1.31077523   3.88607832   1.43481737  -0.41288775\n",
      "   0.94011107   5.54430895   5.16962369   3.57661911   4.90160316\n",
      "   8.98261321   6.59990009   6.24345474   5.94135587   9.95110355\n",
      "   5.81318197  12.94144761   8.50236547   4.58953099   6.85654823\n",
      "   7.39333821  11.46318129  12.30261222  13.83897006   7.9436121\n",
      "  10.39343015  10.86092687   9.24486031  10.6746278   13.27483728\n",
      "  13.39439895  15.26593899  12.53290992  14.22926703  13.84408633\n",
      "  16.94037304  11.59646935  17.15322441  10.33950353  16.71073232\n",
      "  11.82937339  17.89199741  21.05978681  13.39020717  18.87196763]\n"
     ]
    }
   ],
   "source": [
    "# Calcula o erro de \"Y\"\n",
    "erro_y = Y-media_Y\n",
    "print(erro_y)"
   ]
  },
  {
   "cell_type": "code",
   "execution_count": 11,
   "id": "933f2c25",
   "metadata": {},
   "outputs": [
    {
     "name": "stdout",
     "output_type": "stream",
     "text": [
      "2987.80302037496\n"
     ]
    }
   ],
   "source": [
    "# Soma o erro de \"XY\"\n",
    "soma_erro_xy = np.sum(erro_x*erro_y)\n",
    "print(soma_erro_xy)"
   ]
  },
  {
   "cell_type": "code",
   "execution_count": 12,
   "id": "f53954ff",
   "metadata": {},
   "outputs": [
    {
     "name": "stdout",
     "output_type": "stream",
     "text": [
      "[2.50000000e+01 2.40001020e+01 2.30206101e+01 2.20615243e+01\n",
      " 2.11228446e+01 2.02045710e+01 1.93067034e+01 1.84292419e+01\n",
      " 1.75721865e+01 1.67355372e+01 1.59192939e+01 1.51234568e+01\n",
      " 1.43480257e+01 1.35930007e+01 1.28583818e+01 1.21441690e+01\n",
      " 1.14503622e+01 1.07769615e+01 1.01239669e+01 9.49137843e+00\n",
      " 8.87919600e+00 8.28741965e+00 7.71604938e+00 7.16508520e+00\n",
      " 6.63452709e+00 6.12437506e+00 5.63462912e+00 5.16528926e+00\n",
      " 4.71635547e+00 4.28782777e+00 3.87970615e+00 3.49199061e+00\n",
      " 3.12468115e+00 2.77777778e+00 2.45128048e+00 2.14518927e+00\n",
      " 1.85950413e+00 1.59422508e+00 1.34935211e+00 1.12488522e+00\n",
      " 9.20824406e-01 7.37169677e-01 5.73921028e-01 4.31078461e-01\n",
      " 3.08641975e-01 2.06611570e-01 1.24987246e-01 6.37690032e-02\n",
      " 2.29568411e-02 2.55076013e-03 2.55076013e-03 2.29568411e-02\n",
      " 6.37690032e-02 1.24987246e-01 2.06611570e-01 3.08641975e-01\n",
      " 4.31078461e-01 5.73921028e-01 7.37169677e-01 9.20824406e-01\n",
      " 1.12488522e+00 1.34935211e+00 1.59422508e+00 1.85950413e+00\n",
      " 2.14518927e+00 2.45128048e+00 2.77777778e+00 3.12468115e+00\n",
      " 3.49199061e+00 3.87970615e+00 4.28782777e+00 4.71635547e+00\n",
      " 5.16528926e+00 5.63462912e+00 6.12437506e+00 6.63452709e+00\n",
      " 7.16508520e+00 7.71604938e+00 8.28741965e+00 8.87919600e+00\n",
      " 9.49137843e+00 1.01239669e+01 1.07769615e+01 1.14503622e+01\n",
      " 1.21441690e+01 1.28583818e+01 1.35930007e+01 1.43480257e+01\n",
      " 1.51234568e+01 1.59192939e+01 1.67355372e+01 1.75721865e+01\n",
      " 1.84292419e+01 1.93067034e+01 2.02045710e+01 2.11228446e+01\n",
      " 2.20615243e+01 2.30206101e+01 2.40001020e+01 2.50000000e+01]\n"
     ]
    }
   ],
   "source": [
    "# Calcula o erro ao quadrado\n",
    "erro_x_quadratico = (X-media_X)**2.0\n",
    "print(erro_x_quadratico)\n"
   ]
  },
  {
   "cell_type": "code",
   "execution_count": 13,
   "id": "d4909249",
   "metadata": {},
   "outputs": [
    {
     "name": "stdout",
     "output_type": "stream",
     "text": [
      "850.1683501683501\n"
     ]
    }
   ],
   "source": [
    "# Soma o erro de \"x\" ao quadrado\n",
    "soma_erro_x_quadratico = np.sum(erro_x_quadratico)\n",
    "print(soma_erro_x_quadratico)"
   ]
  },
  {
   "cell_type": "code",
   "execution_count": 14,
   "id": "b4d19e27",
   "metadata": {},
   "outputs": [
    {
     "name": "stdout",
     "output_type": "stream",
     "text": [
      "3.5143663249558936\n"
     ]
    }
   ],
   "source": [
    "# Divide a soma do erro XY e divide pela soma do erro de X ao quadrado\n",
    "m = soma_erro_xy / soma_erro_x_quadratico\n",
    "print(m)\n"
   ]
  },
  {
   "cell_type": "code",
   "execution_count": 24,
   "id": "641e0cd0",
   "metadata": {},
   "outputs": [
    {
     "data": {
      "image/png": "[encoded data removed]",
      "text/plain": [
       "<Figure size 640x480 with 1 Axes>"
      ]
     },
     "metadata": {},
     "output_type": "display_data"
    }
   ],
   "source": [
    "# plotando gráficamente\n",
    "reta = (Y)\n",
    "plt.scatter(X,Y,label='Y(X)');\n",
    "plt.plot(X,reta,label='Ajuste linear',color='red');\n",
    "plt.xlabel('X');\n",
    "plt.ylabel('Y');\n",
    "plt.legend();"
   ]
  },
  {
   "cell_type": "code",
   "execution_count": 26,
   "id": "c439197a",
   "metadata": {},
   "outputs": [
    {
     "name": "stdout",
     "output_type": "stream",
     "text": [
      "MAE = 0.00\n",
      "RMSE = 0.00\n"
     ]
    }
   ],
   "source": [
    "# Importando biblioteca que exibirá o absolute error e i squared error\n",
    "from sklearn.metrics import mean_absolute_error,mean_squared_error\n",
    "\n",
    "MAE = mean_absolute_error(Y,reta)\n",
    "RMSE = np.sqrt(mean_squared_error(Y,reta))\n",
    "\n",
    "print(\"MAE = {:0.2f}\".format(MAE))\n",
    "print(\"RMSE = {:0.2f}\".format(RMSE))"
   ]
  },
  {
   "cell_type": "code",
   "execution_count": null,
   "id": "fac2a708",
   "metadata": {},
   "outputs": [],
   "source": []
  }
 ],
 "metadata": {
  "kernelspec": {
   "display_name": "Python 3 (ipykernel)",
   "language": "python",
   "name": "python3"
  },
  "language_info": {
   "codemirror_mode": {
    "name": "ipython",
    "version": 3
   },
   "file_extension": ".py",
   "mimetype": "text/x-python",
   "name": "python",
   "nbconvert_exporter": "python",
   "pygments_lexer": "ipython3",
   "version": "3.9.13"
  }
 },
 "nbformat": 4,
 "nbformat_minor": 5
}
